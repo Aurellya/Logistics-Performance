{
 "cells": [
  {
   "cell_type": "markdown",
   "metadata": {},
   "source": [
    "## Import Modules"
   ]
  },
  {
   "cell_type": "code",
   "execution_count": 112,
   "metadata": {},
   "outputs": [],
   "source": [
    "# import module\n",
    "import pandas as pd\n",
    "from tqdm.notebook import tqdm\n",
    "import time\n",
    "import numpy as np"
   ]
  },
  {
   "cell_type": "markdown",
   "metadata": {},
   "source": [
    "## Read CSV"
   ]
  },
  {
   "cell_type": "code",
   "execution_count": 113,
   "metadata": {},
   "outputs": [],
   "source": [
    "# read csv\n",
    "df1 = pd.read_csv(\"delivery_orders_march.csv\")"
   ]
  },
  {
   "cell_type": "code",
   "execution_count": 114,
   "metadata": {},
   "outputs": [
    {
     "data": {
      "text/html": [
       "<div>\n",
       "<style scoped>\n",
       "    .dataframe tbody tr th:only-of-type {\n",
       "        vertical-align: middle;\n",
       "    }\n",
       "\n",
       "    .dataframe tbody tr th {\n",
       "        vertical-align: top;\n",
       "    }\n",
       "\n",
       "    .dataframe thead th {\n",
       "        text-align: right;\n",
       "    }\n",
       "</style>\n",
       "<table border=\"1\" class=\"dataframe\">\n",
       "  <thead>\n",
       "    <tr style=\"text-align: right;\">\n",
       "      <th></th>\n",
       "      <th>orderid</th>\n",
       "      <th>pick</th>\n",
       "      <th>1st_deliver_attempt</th>\n",
       "      <th>2nd_deliver_attempt</th>\n",
       "      <th>buyeraddress</th>\n",
       "      <th>selleraddress</th>\n",
       "    </tr>\n",
       "  </thead>\n",
       "  <tbody>\n",
       "    <tr>\n",
       "      <td>0</td>\n",
       "      <td>2215676524</td>\n",
       "      <td>1583138397</td>\n",
       "      <td>1.583385e+09</td>\n",
       "      <td>NaN</td>\n",
       "      <td>Baging ldl BUENAVISTA,PATAG.CAGAYAN Buagsong,c...</td>\n",
       "      <td>Pantranco vill. 417 Warehouse# katipunan 532 (...</td>\n",
       "    </tr>\n",
       "    <tr>\n",
       "      <td>1</td>\n",
       "      <td>2219624609</td>\n",
       "      <td>1583309968</td>\n",
       "      <td>1.583463e+09</td>\n",
       "      <td>1.583799e+09</td>\n",
       "      <td>coloma's quzom CASANAS Site1 Masiyan 533A Stol...</td>\n",
       "      <td>BLDG 210A Moras C42B 2B16,168 church) Complex ...</td>\n",
       "    </tr>\n",
       "    <tr>\n",
       "      <td>2</td>\n",
       "      <td>2220979489</td>\n",
       "      <td>1583306434</td>\n",
       "      <td>1.583460e+09</td>\n",
       "      <td>NaN</td>\n",
       "      <td>21-O LumangDaan,Capitangan,Abucay,Bataan .Bign...</td>\n",
       "      <td>#66 150-C, DRIVE, Milagros Joe socorro Metro M...</td>\n",
       "    </tr>\n",
       "    <tr>\n",
       "      <td>3</td>\n",
       "      <td>2221066352</td>\n",
       "      <td>1583419016</td>\n",
       "      <td>1.583556e+09</td>\n",
       "      <td>NaN</td>\n",
       "      <td>616Espiritu MARTINVILLE,MANUYO #5paraiso kengi...</td>\n",
       "      <td>999maII 201,26 Villaruel Barretto gen.t number...</td>\n",
       "    </tr>\n",
       "    <tr>\n",
       "      <td>4</td>\n",
       "      <td>2222478803</td>\n",
       "      <td>1583318305</td>\n",
       "      <td>1.583480e+09</td>\n",
       "      <td>NaN</td>\n",
       "      <td>L042 Summerbreezee1 L2(Balanay analyn Lot760 C...</td>\n",
       "      <td>G66MANILA Hiyas Fitness MAYSILO magdiwang Lt.4...</td>\n",
       "    </tr>\n",
       "  </tbody>\n",
       "</table>\n",
       "</div>"
      ],
      "text/plain": [
       "      orderid        pick  1st_deliver_attempt  2nd_deliver_attempt  \\\n",
       "0  2215676524  1583138397         1.583385e+09                  NaN   \n",
       "1  2219624609  1583309968         1.583463e+09         1.583799e+09   \n",
       "2  2220979489  1583306434         1.583460e+09                  NaN   \n",
       "3  2221066352  1583419016         1.583556e+09                  NaN   \n",
       "4  2222478803  1583318305         1.583480e+09                  NaN   \n",
       "\n",
       "                                        buyeraddress  \\\n",
       "0  Baging ldl BUENAVISTA,PATAG.CAGAYAN Buagsong,c...   \n",
       "1  coloma's quzom CASANAS Site1 Masiyan 533A Stol...   \n",
       "2  21-O LumangDaan,Capitangan,Abucay,Bataan .Bign...   \n",
       "3  616Espiritu MARTINVILLE,MANUYO #5paraiso kengi...   \n",
       "4  L042 Summerbreezee1 L2(Balanay analyn Lot760 C...   \n",
       "\n",
       "                                       selleraddress  \n",
       "0  Pantranco vill. 417 Warehouse# katipunan 532 (...  \n",
       "1  BLDG 210A Moras C42B 2B16,168 church) Complex ...  \n",
       "2  #66 150-C, DRIVE, Milagros Joe socorro Metro M...  \n",
       "3  999maII 201,26 Villaruel Barretto gen.t number...  \n",
       "4  G66MANILA Hiyas Fitness MAYSILO magdiwang Lt.4...  "
      ]
     },
     "execution_count": 114,
     "metadata": {},
     "output_type": "execute_result"
    }
   ],
   "source": [
    "df1.head()"
   ]
  },
  {
   "cell_type": "markdown",
   "metadata": {},
   "source": [
    "## Convert epoch time to normal time format"
   ]
  },
  {
   "cell_type": "code",
   "execution_count": 115,
   "metadata": {},
   "outputs": [],
   "source": [
    "df1[['pick','1st_deliver_attempt','2nd_deliver_attempt']] += 8*60*60 #to GMT+8\n",
    "df1[\"pick\"] = pd.to_datetime(df1['pick'],unit='s').dt.date\n",
    "df1['1st_deliver_attempt'] = pd.to_datetime(df1['1st_deliver_attempt'],unit='s').dt.date\n",
    "df1['2nd_deliver_attempt'] = df1['2nd_deliver_attempt'].replace(np.nan,0) \n",
    "df1['2nd_deliver_attempt'] = pd.to_datetime(df1['2nd_deliver_attempt'],unit='s').dt.date"
   ]
  },
  {
   "cell_type": "code",
   "execution_count": 116,
   "metadata": {},
   "outputs": [
    {
     "data": {
      "text/html": [
       "<div>\n",
       "<style scoped>\n",
       "    .dataframe tbody tr th:only-of-type {\n",
       "        vertical-align: middle;\n",
       "    }\n",
       "\n",
       "    .dataframe tbody tr th {\n",
       "        vertical-align: top;\n",
       "    }\n",
       "\n",
       "    .dataframe thead th {\n",
       "        text-align: right;\n",
       "    }\n",
       "</style>\n",
       "<table border=\"1\" class=\"dataframe\">\n",
       "  <thead>\n",
       "    <tr style=\"text-align: right;\">\n",
       "      <th></th>\n",
       "      <th>orderid</th>\n",
       "      <th>pick</th>\n",
       "      <th>1st_deliver_attempt</th>\n",
       "      <th>2nd_deliver_attempt</th>\n",
       "      <th>buyeraddress</th>\n",
       "      <th>selleraddress</th>\n",
       "    </tr>\n",
       "  </thead>\n",
       "  <tbody>\n",
       "    <tr>\n",
       "      <td>0</td>\n",
       "      <td>2215676524</td>\n",
       "      <td>2020-03-02</td>\n",
       "      <td>2020-03-05</td>\n",
       "      <td>1970-01-01</td>\n",
       "      <td>Baging ldl BUENAVISTA,PATAG.CAGAYAN Buagsong,c...</td>\n",
       "      <td>Pantranco vill. 417 Warehouse# katipunan 532 (...</td>\n",
       "    </tr>\n",
       "    <tr>\n",
       "      <td>1</td>\n",
       "      <td>2219624609</td>\n",
       "      <td>2020-03-04</td>\n",
       "      <td>2020-03-06</td>\n",
       "      <td>2020-03-10</td>\n",
       "      <td>coloma's quzom CASANAS Site1 Masiyan 533A Stol...</td>\n",
       "      <td>BLDG 210A Moras C42B 2B16,168 church) Complex ...</td>\n",
       "    </tr>\n",
       "    <tr>\n",
       "      <td>2</td>\n",
       "      <td>2220979489</td>\n",
       "      <td>2020-03-04</td>\n",
       "      <td>2020-03-06</td>\n",
       "      <td>1970-01-01</td>\n",
       "      <td>21-O LumangDaan,Capitangan,Abucay,Bataan .Bign...</td>\n",
       "      <td>#66 150-C, DRIVE, Milagros Joe socorro Metro M...</td>\n",
       "    </tr>\n",
       "    <tr>\n",
       "      <td>3</td>\n",
       "      <td>2221066352</td>\n",
       "      <td>2020-03-05</td>\n",
       "      <td>2020-03-07</td>\n",
       "      <td>1970-01-01</td>\n",
       "      <td>616Espiritu MARTINVILLE,MANUYO #5paraiso kengi...</td>\n",
       "      <td>999maII 201,26 Villaruel Barretto gen.t number...</td>\n",
       "    </tr>\n",
       "    <tr>\n",
       "      <td>4</td>\n",
       "      <td>2222478803</td>\n",
       "      <td>2020-03-04</td>\n",
       "      <td>2020-03-06</td>\n",
       "      <td>1970-01-01</td>\n",
       "      <td>L042 Summerbreezee1 L2(Balanay analyn Lot760 C...</td>\n",
       "      <td>G66MANILA Hiyas Fitness MAYSILO magdiwang Lt.4...</td>\n",
       "    </tr>\n",
       "  </tbody>\n",
       "</table>\n",
       "</div>"
      ],
      "text/plain": [
       "      orderid        pick 1st_deliver_attempt 2nd_deliver_attempt  \\\n",
       "0  2215676524  2020-03-02          2020-03-05          1970-01-01   \n",
       "1  2219624609  2020-03-04          2020-03-06          2020-03-10   \n",
       "2  2220979489  2020-03-04          2020-03-06          1970-01-01   \n",
       "3  2221066352  2020-03-05          2020-03-07          1970-01-01   \n",
       "4  2222478803  2020-03-04          2020-03-06          1970-01-01   \n",
       "\n",
       "                                        buyeraddress  \\\n",
       "0  Baging ldl BUENAVISTA,PATAG.CAGAYAN Buagsong,c...   \n",
       "1  coloma's quzom CASANAS Site1 Masiyan 533A Stol...   \n",
       "2  21-O LumangDaan,Capitangan,Abucay,Bataan .Bign...   \n",
       "3  616Espiritu MARTINVILLE,MANUYO #5paraiso kengi...   \n",
       "4  L042 Summerbreezee1 L2(Balanay analyn Lot760 C...   \n",
       "\n",
       "                                       selleraddress  \n",
       "0  Pantranco vill. 417 Warehouse# katipunan 532 (...  \n",
       "1  BLDG 210A Moras C42B 2B16,168 church) Complex ...  \n",
       "2  #66 150-C, DRIVE, Milagros Joe socorro Metro M...  \n",
       "3  999maII 201,26 Villaruel Barretto gen.t number...  \n",
       "4  G66MANILA Hiyas Fitness MAYSILO magdiwang Lt.4...  "
      ]
     },
     "execution_count": 116,
     "metadata": {},
     "output_type": "execute_result"
    }
   ],
   "source": [
    "df1.head()"
   ]
  },
  {
   "cell_type": "markdown",
   "metadata": {},
   "source": [
    "## Determine sla for each rows based on the buyer and seller address"
   ]
  },
  {
   "cell_type": "code",
   "execution_count": 117,
   "metadata": {},
   "outputs": [],
   "source": [
    "# function to return the preferred format for address\n",
    "def transform(text):\n",
    "    if \"manila\" in text.lower():\n",
    "        return \"Metro Manila\"\n",
    "    elif \"luzon\" in text.lower():\n",
    "        return \"Luzon\"\n",
    "    elif \"visayas\" in text.lower():\n",
    "        return \"Visayas\"\n",
    "    elif \"mindanao\" in text.lower():\n",
    "        return \"Mindanao\"\n",
    "\n",
    "# function to return the value of sla\n",
    "def trans_value(buyer_address, seller_address):\n",
    "    if (buyer_address == \"Metro Manila\") and (seller_address == \"Metro Manila\"):\n",
    "        return 3\n",
    "    elif ((buyer_address == \"Metro Manila\") and (seller_address == \"Luzon\")) or ((buyer_address == \"Luzon\") and (seller_address == \"Metro Manila\")) or ((buyer_address == \"Luzon\") and (seller_address == \"Luzon\")):\n",
    "        return 5\n",
    "    else: \n",
    "        return 7"
   ]
  },
  {
   "cell_type": "code",
   "execution_count": 118,
   "metadata": {},
   "outputs": [
    {
     "data": {
      "application/vnd.jupyter.widget-view+json": {
       "model_id": "eb0334c60a6247549d9ce855165b4498",
       "version_major": 2,
       "version_minor": 0
      },
      "text/plain": [
       "HBox(children=(IntProgress(value=1, bar_style='info', max=1), HTML(value='')))"
      ]
     },
     "metadata": {},
     "output_type": "display_data"
    },
    {
     "name": "stdout",
     "output_type": "stream",
     "text": [
      "\n"
     ]
    }
   ],
   "source": [
    "sla_ = []\n",
    "\n",
    "for ba, sa in tqdm(df1[['buyeraddress','selleraddress']].itertuples(index=False)):\n",
    "    # ba = buyer address\n",
    "    # sa = seller address\n",
    "    \n",
    "    ba = ba.split(\",\")[-1]\n",
    "    sa = sa.split(\",\")[-1]\n",
    "    \n",
    "    ba = ba.split(\" \")[-1]\n",
    "    sa = sa.split(\" \")[-1]\n",
    "    \n",
    "    ba = transform(ba)\n",
    "    sa = transform(sa)\n",
    "    \n",
    "    sla = trans_value(ba, sa)\n",
    "    sla_.append(sla)\n",
    "\n",
    "df1[\"sla\"] = sla_\n",
    "df1 = df1.drop(columns=['buyeraddress', 'selleraddress'])"
   ]
  },
  {
   "cell_type": "code",
   "execution_count": 119,
   "metadata": {},
   "outputs": [
    {
     "data": {
      "text/html": [
       "<div>\n",
       "<style scoped>\n",
       "    .dataframe tbody tr th:only-of-type {\n",
       "        vertical-align: middle;\n",
       "    }\n",
       "\n",
       "    .dataframe tbody tr th {\n",
       "        vertical-align: top;\n",
       "    }\n",
       "\n",
       "    .dataframe thead th {\n",
       "        text-align: right;\n",
       "    }\n",
       "</style>\n",
       "<table border=\"1\" class=\"dataframe\">\n",
       "  <thead>\n",
       "    <tr style=\"text-align: right;\">\n",
       "      <th></th>\n",
       "      <th>orderid</th>\n",
       "      <th>pick</th>\n",
       "      <th>1st_deliver_attempt</th>\n",
       "      <th>2nd_deliver_attempt</th>\n",
       "      <th>sla</th>\n",
       "    </tr>\n",
       "  </thead>\n",
       "  <tbody>\n",
       "    <tr>\n",
       "      <td>0</td>\n",
       "      <td>2215676524</td>\n",
       "      <td>2020-03-02</td>\n",
       "      <td>2020-03-05</td>\n",
       "      <td>1970-01-01</td>\n",
       "      <td>3</td>\n",
       "    </tr>\n",
       "    <tr>\n",
       "      <td>1</td>\n",
       "      <td>2219624609</td>\n",
       "      <td>2020-03-04</td>\n",
       "      <td>2020-03-06</td>\n",
       "      <td>2020-03-10</td>\n",
       "      <td>3</td>\n",
       "    </tr>\n",
       "    <tr>\n",
       "      <td>2</td>\n",
       "      <td>2220979489</td>\n",
       "      <td>2020-03-04</td>\n",
       "      <td>2020-03-06</td>\n",
       "      <td>1970-01-01</td>\n",
       "      <td>3</td>\n",
       "    </tr>\n",
       "    <tr>\n",
       "      <td>3</td>\n",
       "      <td>2221066352</td>\n",
       "      <td>2020-03-05</td>\n",
       "      <td>2020-03-07</td>\n",
       "      <td>1970-01-01</td>\n",
       "      <td>3</td>\n",
       "    </tr>\n",
       "    <tr>\n",
       "      <td>4</td>\n",
       "      <td>2222478803</td>\n",
       "      <td>2020-03-04</td>\n",
       "      <td>2020-03-06</td>\n",
       "      <td>1970-01-01</td>\n",
       "      <td>5</td>\n",
       "    </tr>\n",
       "  </tbody>\n",
       "</table>\n",
       "</div>"
      ],
      "text/plain": [
       "      orderid        pick 1st_deliver_attempt 2nd_deliver_attempt  sla\n",
       "0  2215676524  2020-03-02          2020-03-05          1970-01-01    3\n",
       "1  2219624609  2020-03-04          2020-03-06          2020-03-10    3\n",
       "2  2220979489  2020-03-04          2020-03-06          1970-01-01    3\n",
       "3  2221066352  2020-03-05          2020-03-07          1970-01-01    3\n",
       "4  2222478803  2020-03-04          2020-03-06          1970-01-01    5"
      ]
     },
     "execution_count": 119,
     "metadata": {},
     "output_type": "execute_result"
    }
   ],
   "source": [
    "df1.head()"
   ]
  },
  {
   "cell_type": "markdown",
   "metadata": {},
   "source": [
    "## Determine if the delivery is late or not"
   ]
  },
  {
   "cell_type": "code",
   "execution_count": 120,
   "metadata": {},
   "outputs": [],
   "source": [
    "public_holiday = ['2020-03-08','2020-03-25','2020-03-30','2020-03-31']\n",
    "\n",
    "# count the time difference between pickup time and 1st deliver attempt\n",
    "df1['1st_pick'] = np.busday_count(df1['pick'], df1['1st_deliver_attempt'], weekmask='1111110', holidays=public_holiday)\n",
    "\n",
    "# count the time difference between 1st deliver attempt and 2nd deliver attempt\n",
    "df1['2nd_pick'] = np.busday_count(df1['1st_deliver_attempt'], df1['2nd_deliver_attempt'], weekmask='1111110', holidays=public_holiday)\n",
    "\n",
    "# determine if it is late or not\n",
    "df1['is_late'] = (df1['1st_pick'] > df1['sla']) | (df1['2nd_pick'] > 3)"
   ]
  },
  {
   "cell_type": "code",
   "execution_count": 121,
   "metadata": {},
   "outputs": [
    {
     "data": {
      "text/html": [
       "<div>\n",
       "<style scoped>\n",
       "    .dataframe tbody tr th:only-of-type {\n",
       "        vertical-align: middle;\n",
       "    }\n",
       "\n",
       "    .dataframe tbody tr th {\n",
       "        vertical-align: top;\n",
       "    }\n",
       "\n",
       "    .dataframe thead th {\n",
       "        text-align: right;\n",
       "    }\n",
       "</style>\n",
       "<table border=\"1\" class=\"dataframe\">\n",
       "  <thead>\n",
       "    <tr style=\"text-align: right;\">\n",
       "      <th></th>\n",
       "      <th>orderid</th>\n",
       "      <th>pick</th>\n",
       "      <th>1st_deliver_attempt</th>\n",
       "      <th>2nd_deliver_attempt</th>\n",
       "      <th>sla</th>\n",
       "      <th>1st_pick</th>\n",
       "      <th>2nd_pick</th>\n",
       "      <th>is_late</th>\n",
       "    </tr>\n",
       "  </thead>\n",
       "  <tbody>\n",
       "    <tr>\n",
       "      <td>0</td>\n",
       "      <td>2215676524</td>\n",
       "      <td>2020-03-02</td>\n",
       "      <td>2020-03-05</td>\n",
       "      <td>1970-01-01</td>\n",
       "      <td>3</td>\n",
       "      <td>3</td>\n",
       "      <td>-15708</td>\n",
       "      <td>False</td>\n",
       "    </tr>\n",
       "    <tr>\n",
       "      <td>1</td>\n",
       "      <td>2219624609</td>\n",
       "      <td>2020-03-04</td>\n",
       "      <td>2020-03-06</td>\n",
       "      <td>2020-03-10</td>\n",
       "      <td>3</td>\n",
       "      <td>2</td>\n",
       "      <td>3</td>\n",
       "      <td>False</td>\n",
       "    </tr>\n",
       "    <tr>\n",
       "      <td>2</td>\n",
       "      <td>2220979489</td>\n",
       "      <td>2020-03-04</td>\n",
       "      <td>2020-03-06</td>\n",
       "      <td>1970-01-01</td>\n",
       "      <td>3</td>\n",
       "      <td>2</td>\n",
       "      <td>-15709</td>\n",
       "      <td>False</td>\n",
       "    </tr>\n",
       "    <tr>\n",
       "      <td>3</td>\n",
       "      <td>2221066352</td>\n",
       "      <td>2020-03-05</td>\n",
       "      <td>2020-03-07</td>\n",
       "      <td>1970-01-01</td>\n",
       "      <td>3</td>\n",
       "      <td>2</td>\n",
       "      <td>-15710</td>\n",
       "      <td>False</td>\n",
       "    </tr>\n",
       "    <tr>\n",
       "      <td>4</td>\n",
       "      <td>2222478803</td>\n",
       "      <td>2020-03-04</td>\n",
       "      <td>2020-03-06</td>\n",
       "      <td>1970-01-01</td>\n",
       "      <td>5</td>\n",
       "      <td>2</td>\n",
       "      <td>-15709</td>\n",
       "      <td>False</td>\n",
       "    </tr>\n",
       "  </tbody>\n",
       "</table>\n",
       "</div>"
      ],
      "text/plain": [
       "      orderid        pick 1st_deliver_attempt 2nd_deliver_attempt  sla  \\\n",
       "0  2215676524  2020-03-02          2020-03-05          1970-01-01    3   \n",
       "1  2219624609  2020-03-04          2020-03-06          2020-03-10    3   \n",
       "2  2220979489  2020-03-04          2020-03-06          1970-01-01    3   \n",
       "3  2221066352  2020-03-05          2020-03-07          1970-01-01    3   \n",
       "4  2222478803  2020-03-04          2020-03-06          1970-01-01    5   \n",
       "\n",
       "   1st_pick  2nd_pick  is_late  \n",
       "0         3    -15708    False  \n",
       "1         2         3    False  \n",
       "2         2    -15709    False  \n",
       "3         2    -15710    False  \n",
       "4         2    -15709    False  "
      ]
     },
     "execution_count": 121,
     "metadata": {},
     "output_type": "execute_result"
    }
   ],
   "source": [
    "df1.head()"
   ]
  },
  {
   "cell_type": "markdown",
   "metadata": {},
   "source": [
    "## Create new Dataframe"
   ]
  },
  {
   "cell_type": "code",
   "execution_count": 122,
   "metadata": {},
   "outputs": [],
   "source": [
    "df = pd.DataFrame({'orderid':df1['orderid'], 'is_late':df1['is_late'].apply(int)})"
   ]
  },
  {
   "cell_type": "code",
   "execution_count": 123,
   "metadata": {},
   "outputs": [
    {
     "data": {
      "text/html": [
       "<div>\n",
       "<style scoped>\n",
       "    .dataframe tbody tr th:only-of-type {\n",
       "        vertical-align: middle;\n",
       "    }\n",
       "\n",
       "    .dataframe tbody tr th {\n",
       "        vertical-align: top;\n",
       "    }\n",
       "\n",
       "    .dataframe thead th {\n",
       "        text-align: right;\n",
       "    }\n",
       "</style>\n",
       "<table border=\"1\" class=\"dataframe\">\n",
       "  <thead>\n",
       "    <tr style=\"text-align: right;\">\n",
       "      <th></th>\n",
       "      <th>orderid</th>\n",
       "      <th>is_late</th>\n",
       "    </tr>\n",
       "  </thead>\n",
       "  <tbody>\n",
       "    <tr>\n",
       "      <td>0</td>\n",
       "      <td>2215676524</td>\n",
       "      <td>0</td>\n",
       "    </tr>\n",
       "    <tr>\n",
       "      <td>1</td>\n",
       "      <td>2219624609</td>\n",
       "      <td>0</td>\n",
       "    </tr>\n",
       "    <tr>\n",
       "      <td>2</td>\n",
       "      <td>2220979489</td>\n",
       "      <td>0</td>\n",
       "    </tr>\n",
       "    <tr>\n",
       "      <td>3</td>\n",
       "      <td>2221066352</td>\n",
       "      <td>0</td>\n",
       "    </tr>\n",
       "    <tr>\n",
       "      <td>4</td>\n",
       "      <td>2222478803</td>\n",
       "      <td>0</td>\n",
       "    </tr>\n",
       "  </tbody>\n",
       "</table>\n",
       "</div>"
      ],
      "text/plain": [
       "      orderid  is_late\n",
       "0  2215676524        0\n",
       "1  2219624609        0\n",
       "2  2220979489        0\n",
       "3  2221066352        0\n",
       "4  2222478803        0"
      ]
     },
     "execution_count": 123,
     "metadata": {},
     "output_type": "execute_result"
    }
   ],
   "source": [
    "df.head()"
   ]
  },
  {
   "cell_type": "markdown",
   "metadata": {},
   "source": [
    "## Export to CSV"
   ]
  },
  {
   "cell_type": "code",
   "execution_count": 124,
   "metadata": {},
   "outputs": [],
   "source": [
    "# write to csv\n",
    "df.to_csv(\"answer.csv\", header = True, index=False)"
   ]
  },
  {
   "cell_type": "code",
   "execution_count": null,
   "metadata": {},
   "outputs": [],
   "source": []
  },
  {
   "cell_type": "code",
   "execution_count": null,
   "metadata": {},
   "outputs": [],
   "source": []
  }
 ],
 "metadata": {
  "kernelspec": {
   "display_name": "Python 3",
   "language": "python",
   "name": "python3"
  },
  "language_info": {
   "codemirror_mode": {
    "name": "ipython",
    "version": 3
   },
   "file_extension": ".py",
   "mimetype": "text/x-python",
   "name": "python",
   "nbconvert_exporter": "python",
   "pygments_lexer": "ipython3",
   "version": "3.7.4"
  }
 },
 "nbformat": 4,
 "nbformat_minor": 2
}
